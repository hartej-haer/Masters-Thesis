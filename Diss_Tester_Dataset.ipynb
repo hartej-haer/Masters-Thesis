{
 "cells": [
  {
   "cell_type": "code",
   "execution_count": 1,
   "id": "a8b8aaef",
   "metadata": {},
   "outputs": [
    {
     "name": "stderr",
     "output_type": "stream",
     "text": [
      "[nltk_data] Downloading package stopwords to\n",
      "[nltk_data]     /Users/Hartej/nltk_data...\n",
      "[nltk_data]   Package stopwords is already up-to-date!\n",
      "[nltk_data] Downloading package wordnet to /Users/Hartej/nltk_data...\n",
      "[nltk_data]   Package wordnet is already up-to-date!\n"
     ]
    }
   ],
   "source": [
    "import numpy as np \n",
    "import pandas as pd\n",
    "import seaborn as sns\n",
    "import csv\n",
    "import re\n",
    "import nltk\n",
    "import random\n",
    "import string\n",
    "\n",
    "import warnings\n",
    "warnings.filterwarnings('ignore')\n",
    "\n",
    "import matplotlib.pyplot as plt\n",
    "%matplotlib inline\n",
    "from wordcloud import WordCloud, STOPWORDS , ImageColorGenerator\n",
    "\n",
    "\n",
    "from nltk.corpus import stopwords\n",
    "from nltk.stem.snowball import SnowballStemmer\n",
    "\n",
    "\n",
    "from nltk.stem import WordNetLemmatizer\n",
    "from nltk.tokenize import word_tokenize\n",
    "\n",
    "import os, sys, logging, traceback, codecs, datetime, copy, time, ast, math, re, random, shutil, json, csv, multiprocessing, subprocess\n",
    "import matplotlib.pyplot as plt\n",
    "import pandas as pd\n",
    "import numpy as np\n",
    "import seaborn as sns\n",
    "import os\n",
    "import pandas as pd\n",
    "import matplotlib.pyplot as plt\n",
    "%matplotlib inline\n",
    "import seaborn as sns\n",
    "import itertools\n",
    "import collections\n",
    "import sklearn\n",
    "from sklearn.feature_extraction.text import CountVectorizer\n",
    "\n",
    "\n",
    "import nltk\n",
    "from nltk.corpus import stopwords\n",
    "import re\n",
    "import nltk\n",
    "nltk.download('stopwords')\n",
    "nltk.download('wordnet')\n",
    "\n",
    "\n",
    "\n",
    "import pandas as pd\n",
    "import numpy as np\n",
    "import seaborn as sns\n",
    "import matplotlib.pyplot as plt\n",
    "from sklearn.feature_extraction.text import CountVectorizer\n",
    "import nltk \n",
    "import string\n",
    "import re\n",
    "%matplotlib inline\n",
    "from wordcloud import WordCloud, STOPWORDS , ImageColorGenerator\n",
    "\n",
    "from collections import Counter\n",
    "\n",
    "from vaderSentiment.vaderSentiment import SentimentIntensityAnalyzer\n",
    "from sklearn.metrics import accuracy_score\n",
    "from sklearn.metrics import classification_report, confusion_matrix\n",
    "from sklearn.metrics import accuracy_score, f1_score, precision_score, recall_score"
   ]
  },
  {
   "cell_type": "code",
   "execution_count": 2,
   "id": "d88ef140",
   "metadata": {},
   "outputs": [],
   "source": [
    "#Import datasets \n",
    "\n",
    "data =pd.read_csv(\"./stock_data.csv\", sep=\",\")"
   ]
  },
  {
   "cell_type": "code",
   "execution_count": 3,
   "id": "267e07fd",
   "metadata": {},
   "outputs": [],
   "source": [
    "#Format/Description "
   ]
  },
  {
   "cell_type": "code",
   "execution_count": 4,
   "id": "c321ac88",
   "metadata": {},
   "outputs": [
    {
     "data": {
      "text/html": [
       "<div>\n",
       "<style scoped>\n",
       "    .dataframe tbody tr th:only-of-type {\n",
       "        vertical-align: middle;\n",
       "    }\n",
       "\n",
       "    .dataframe tbody tr th {\n",
       "        vertical-align: top;\n",
       "    }\n",
       "\n",
       "    .dataframe thead th {\n",
       "        text-align: right;\n",
       "    }\n",
       "</style>\n",
       "<table border=\"1\" class=\"dataframe\">\n",
       "  <thead>\n",
       "    <tr style=\"text-align: right;\">\n",
       "      <th></th>\n",
       "      <th>Sentiment</th>\n",
       "    </tr>\n",
       "  </thead>\n",
       "  <tbody>\n",
       "    <tr>\n",
       "      <th>count</th>\n",
       "      <td>5791.000000</td>\n",
       "    </tr>\n",
       "    <tr>\n",
       "      <th>mean</th>\n",
       "      <td>0.272664</td>\n",
       "    </tr>\n",
       "    <tr>\n",
       "      <th>std</th>\n",
       "      <td>0.962192</td>\n",
       "    </tr>\n",
       "    <tr>\n",
       "      <th>min</th>\n",
       "      <td>-1.000000</td>\n",
       "    </tr>\n",
       "    <tr>\n",
       "      <th>25%</th>\n",
       "      <td>-1.000000</td>\n",
       "    </tr>\n",
       "    <tr>\n",
       "      <th>50%</th>\n",
       "      <td>1.000000</td>\n",
       "    </tr>\n",
       "    <tr>\n",
       "      <th>75%</th>\n",
       "      <td>1.000000</td>\n",
       "    </tr>\n",
       "    <tr>\n",
       "      <th>max</th>\n",
       "      <td>1.000000</td>\n",
       "    </tr>\n",
       "  </tbody>\n",
       "</table>\n",
       "</div>"
      ],
      "text/plain": [
       "         Sentiment\n",
       "count  5791.000000\n",
       "mean      0.272664\n",
       "std       0.962192\n",
       "min      -1.000000\n",
       "25%      -1.000000\n",
       "50%       1.000000\n",
       "75%       1.000000\n",
       "max       1.000000"
      ]
     },
     "execution_count": 4,
     "metadata": {},
     "output_type": "execute_result"
    }
   ],
   "source": [
    "data.describe()"
   ]
  },
  {
   "cell_type": "code",
   "execution_count": 5,
   "id": "86a25976",
   "metadata": {},
   "outputs": [
    {
     "name": "stdout",
     "output_type": "stream",
     "text": [
      "Dataset size: (5791, 2)\n",
      "Columns are: Index(['Text', 'Sentiment'], dtype='object')\n"
     ]
    }
   ],
   "source": [
    "print('Dataset size:',data.shape)\n",
    "print('Columns are:',data.columns)"
   ]
  },
  {
   "cell_type": "code",
   "execution_count": 6,
   "id": "8bbc3305",
   "metadata": {},
   "outputs": [
    {
     "data": {
      "text/plain": [
       "Text         0\n",
       "Sentiment    0\n",
       "dtype: int64"
      ]
     },
     "execution_count": 6,
     "metadata": {},
     "output_type": "execute_result"
    }
   ],
   "source": [
    "#Values missing  = Yes\n",
    "\n",
    "data.isnull().sum()"
   ]
  },
  {
   "cell_type": "code",
   "execution_count": 7,
   "id": "d9d6d565",
   "metadata": {},
   "outputs": [
    {
     "name": "stdout",
     "output_type": "stream",
     "text": [
      "<class 'pandas.core.frame.DataFrame'>\n",
      "RangeIndex: 5791 entries, 0 to 5790\n",
      "Data columns (total 2 columns):\n",
      " #   Column     Non-Null Count  Dtype \n",
      "---  ------     --------------  ----- \n",
      " 0   Text       5791 non-null   object\n",
      " 1   Sentiment  5791 non-null   int64 \n",
      "dtypes: int64(1), object(1)\n",
      "memory usage: 90.6+ KB\n"
     ]
    }
   ],
   "source": [
    "data.info()"
   ]
  },
  {
   "cell_type": "code",
   "execution_count": 8,
   "id": "cad8ae8d",
   "metadata": {},
   "outputs": [],
   "source": [
    "data.rename(columns={'Sentiment': 'sentiment', 'Text': 'text'}, inplace=True)"
   ]
  },
  {
   "cell_type": "code",
   "execution_count": 9,
   "id": "002ba048",
   "metadata": {},
   "outputs": [
    {
     "data": {
      "text/plain": [
       "<AxesSubplot:xlabel='sentiment', ylabel='count'>"
      ]
     },
     "execution_count": 9,
     "metadata": {},
     "output_type": "execute_result"
    },
    {
     "data": {
      "image/png": "[encoded data removed]",
      "text/plain": [
       "<Figure size 432x288 with 1 Axes>"
      ]
     },
     "metadata": {
      "needs_background": "light"
     },
     "output_type": "display_data"
    }
   ],
   "source": [
    "sns.countplot(x = 'sentiment', data = data)"
   ]
  },
  {
   "cell_type": "code",
   "execution_count": 10,
   "id": "dc62b02c",
   "metadata": {},
   "outputs": [
    {
     "data": {
      "text/plain": [
       " 1    3685\n",
       "-1    2106\n",
       "Name: sentiment, dtype: int64"
      ]
     },
     "execution_count": 10,
     "metadata": {},
     "output_type": "execute_result"
    }
   ],
   "source": [
    "data[\"sentiment\"].value_counts()"
   ]
  },
  {
   "cell_type": "code",
   "execution_count": 11,
   "id": "b457338e",
   "metadata": {},
   "outputs": [],
   "source": [
    "#stopwords = nltk.corpus.stopwords.words('english')\n",
    "#punctuation = string.punctuation"
   ]
  },
  {
   "cell_type": "code",
   "execution_count": 12,
   "id": "419104d9",
   "metadata": {},
   "outputs": [],
   "source": [
    "#Top 50 words"
   ]
  },
  {
   "cell_type": "code",
   "execution_count": 13,
   "id": "b70db273",
   "metadata": {},
   "outputs": [
    {
     "data": {
      "text/html": [
       "<div>\n",
       "<style scoped>\n",
       "    .dataframe tbody tr th:only-of-type {\n",
       "        vertical-align: middle;\n",
       "    }\n",
       "\n",
       "    .dataframe tbody tr th {\n",
       "        vertical-align: top;\n",
       "    }\n",
       "\n",
       "    .dataframe thead th {\n",
       "        text-align: right;\n",
       "    }\n",
       "</style>\n",
       "<table border=\"1\" class=\"dataframe\">\n",
       "  <thead>\n",
       "    <tr style=\"text-align: right;\">\n",
       "      <th></th>\n",
       "      <th>text</th>\n",
       "      <th>sentiment</th>\n",
       "    </tr>\n",
       "  </thead>\n",
       "  <tbody>\n",
       "    <tr>\n",
       "      <th>0</th>\n",
       "      <td>Kickers on my watchlist XIDE TIT SOQ PNK CPW B...</td>\n",
       "      <td>1</td>\n",
       "    </tr>\n",
       "    <tr>\n",
       "      <th>1</th>\n",
       "      <td>user: AAP MOVIE. 55% return for the FEA/GEED i...</td>\n",
       "      <td>1</td>\n",
       "    </tr>\n",
       "    <tr>\n",
       "      <th>2</th>\n",
       "      <td>user I'd be afraid to short AMZN - they are lo...</td>\n",
       "      <td>1</td>\n",
       "    </tr>\n",
       "    <tr>\n",
       "      <th>3</th>\n",
       "      <td>MNTA Over 12.00</td>\n",
       "      <td>1</td>\n",
       "    </tr>\n",
       "    <tr>\n",
       "      <th>4</th>\n",
       "      <td>OI  Over 21.37</td>\n",
       "      <td>1</td>\n",
       "    </tr>\n",
       "  </tbody>\n",
       "</table>\n",
       "</div>"
      ],
      "text/plain": [
       "                                                text  sentiment\n",
       "0  Kickers on my watchlist XIDE TIT SOQ PNK CPW B...          1\n",
       "1  user: AAP MOVIE. 55% return for the FEA/GEED i...          1\n",
       "2  user I'd be afraid to short AMZN - they are lo...          1\n",
       "3                                  MNTA Over 12.00            1\n",
       "4                                   OI  Over 21.37            1"
      ]
     },
     "execution_count": 13,
     "metadata": {},
     "output_type": "execute_result"
    }
   ],
   "source": [
    "data.head(5)"
   ]
  },
  {
   "cell_type": "code",
   "execution_count": 14,
   "id": "71e41df6",
   "metadata": {},
   "outputs": [],
   "source": [
    "import nltk\n",
    "from nltk import tokenize\n",
    "\n",
    "tokenSpace = tokenize.WhitespaceTokenizer()\n",
    "def counter(text, columnText, quantity):\n",
    "    allWords = ' '.join([text for text in text[columnText].astype('str')])\n",
    "    tokenPhrase = tokenSpace.tokenize(allWords)\n",
    "    frequency = nltk.FreqDist(tokenPhrase) \n",
    "    dfFrequency = pd.DataFrame({\"Word\": list(frequency.keys()), \"Frequency\": list(frequency.values())}) \n",
    "    \n",
    "    dfFrequency = dfFrequency.nlargest(columns = \"Frequency\", n = quantity)\n",
    "    plt.figure(figsize=(14,8))\n",
    "    ax = sns.barplot(data = dfFrequency, x = \"Word\", y = \"Frequency\", palette=\"deep\")\n",
    "    ax.set(ylabel = \"Count\")\n",
    "    plt.xticks(rotation='horizontal')\n",
    "    plt.show()"
   ]
  },
  {
   "cell_type": "code",
   "execution_count": 15,
   "id": "31dfd7b2",
   "metadata": {},
   "outputs": [
    {
     "data": {
      "image/png": "[encoded data removed]",
      "text/plain": [
       "<Figure size 1008x576 with 1 Axes>"
      ]
     },
     "metadata": {
      "needs_background": "light"
     },
     "output_type": "display_data"
    }
   ],
   "source": [
    "counter(data, 'text', 25)"
   ]
  },
  {
   "cell_type": "code",
   "execution_count": 16,
   "id": "e4c012b4",
   "metadata": {},
   "outputs": [],
   "source": [
    "# Pre-processing needed "
   ]
  },
  {
   "cell_type": "code",
   "execution_count": 17,
   "id": "767e2081",
   "metadata": {},
   "outputs": [],
   "source": [
    "#Pre-processing "
   ]
  },
  {
   "cell_type": "code",
   "execution_count": 18,
   "id": "a0c72c8a",
   "metadata": {},
   "outputs": [],
   "source": [
    "#Stopwords\n",
    "\n",
    "stopwords = nltk.corpus.stopwords.words('english')\n",
    "data['pro'] = data['text'].apply(lambda x: ' '.join([word for word in x.split() if word not in (stopwords)]))"
   ]
  },
  {
   "cell_type": "code",
   "execution_count": 19,
   "id": "3de9c01d",
   "metadata": {},
   "outputs": [],
   "source": [
    "# Below list represents objects; did not take all the intersected words into consideration\n",
    "#stopwords.extend(['one', 'make', 'really', 'get', 'go',\n",
    "#                  'see', 'also', 'would', 'think', 'come', 'ever','in','is','the',\n",
    "#                  'even', 'say', 'look', 'could', 'back','to','for','RT','of','is','a','and','Inc.','Inc','Register',\n",
    "#                  'analyst', 'group', 'the', 'BONUS', 'Binance', 'new', 'investment', 'has','Jim','Crammer'])\n",
    "# stopwords.extend(['movie', 'film', 'phone', 'food', 'place','service', 'product'])\n",
    "# \"not\" can be used in \"not good\" as well as \"not bad\", so removing it from the list is important\n",
    "# \"really\" and \"very\" were removed as with using bigrams, they can show more emphasis whether an item is\n",
    "## very good or really bad\n",
    "#stopwords = [e for e in stopwords if e not in ('no', 'nor', 'not')]"
   ]
  },
  {
   "cell_type": "code",
   "execution_count": 20,
   "id": "178e7061",
   "metadata": {},
   "outputs": [],
   "source": [
    "# Below list represents objects; did not take all the intersected words into consideration\n",
    "stopwords.extend(['one', 'make', 'get', 'go', 'like', 'This', 'today', 'imgur',\n",
    "                  'see', 'also', 'would', 'think', 'come', 'ever', 'Jim', 'Cramer', 'says', 'The',\n",
    "                  'even', 'say', 'look', 'could', 'back','•', 'CLICK', 'FOR', 'HERE'])\n",
    "# stopwords.extend(['movie', 'film', 'phone', 'food', 'place','service', 'product'])\n",
    "# \"not\" can be used in \"not good\" as well as \"not bad\", so removing it from the list is important\n",
    "# \"really\" and \"very\" were removed as with using bigrams, they can show more emphasis whether an item is\n",
    "## very good or really bad\n",
    "#stopwords = [e for e in stopwords if e not in ('no', 'nor', 'not')]"
   ]
  },
  {
   "cell_type": "code",
   "execution_count": 21,
   "id": "b0d852cb",
   "metadata": {},
   "outputs": [
    {
     "name": "stdout",
     "output_type": "stream",
     "text": [
      "['i', 'me', 'my', 'myself', 'we', 'our', 'ours', 'ourselves', 'you', \"you're\", \"you've\", \"you'll\", \"you'd\", 'your', 'yours', 'yourself', 'yourselves', 'he', 'him', 'his', 'himself', 'she', \"she's\", 'her', 'hers', 'herself', 'it', \"it's\", 'its', 'itself', 'they', 'them', 'their', 'theirs', 'themselves', 'what', 'which', 'who', 'whom', 'this', 'that', \"that'll\", 'these', 'those', 'am', 'is', 'are', 'was', 'were', 'be', 'been', 'being', 'have', 'has', 'had', 'having', 'do', 'does', 'did', 'doing', 'a', 'an', 'the', 'and', 'but', 'if', 'or', 'because', 'as', 'until', 'while', 'of', 'at', 'by', 'for', 'with', 'about', 'against', 'between', 'into', 'through', 'during', 'before', 'after', 'above', 'below', 'to', 'from', 'up', 'down', 'in', 'out', 'on', 'off', 'over', 'under', 'again', 'further', 'then', 'once', 'here', 'there', 'when', 'where', 'why', 'how', 'all', 'any', 'both', 'each', 'few', 'more', 'most', 'other', 'some', 'such', 'no', 'nor', 'not', 'only', 'own', 'same', 'so', 'than', 'too', 'very', 's', 't', 'can', 'will', 'just', 'don', \"don't\", 'should', \"should've\", 'now', 'd', 'll', 'm', 'o', 're', 've', 'y', 'ain', 'aren', \"aren't\", 'couldn', \"couldn't\", 'didn', \"didn't\", 'doesn', \"doesn't\", 'hadn', \"hadn't\", 'hasn', \"hasn't\", 'haven', \"haven't\", 'isn', \"isn't\", 'ma', 'mightn', \"mightn't\", 'mustn', \"mustn't\", 'needn', \"needn't\", 'shan', \"shan't\", 'shouldn', \"shouldn't\", 'wasn', \"wasn't\", 'weren', \"weren't\", 'won', \"won't\", 'wouldn', \"wouldn't\", 'one', 'make', 'get', 'go', 'like', 'This', 'today', 'imgur', 'see', 'also', 'would', 'think', 'come', 'ever', 'Jim', 'Cramer', 'says', 'The', 'even', 'say', 'look', 'could', 'back', '•', 'CLICK', 'FOR', 'HERE']\n"
     ]
    }
   ],
   "source": [
    "print(stopwords)"
   ]
  },
  {
   "cell_type": "code",
   "execution_count": 22,
   "id": "ab6c1fcc",
   "metadata": {},
   "outputs": [],
   "source": [
    "#Removed mentions, hastags, RT, hyperlinks \n",
    "def clean_text(text):\n",
    "    text = re.sub(r'@[A-Za-z0-9]+', '', text)\n",
    "    text = re.sub(r'#', '', text)\n",
    "    text = re.sub(r'RT[\\s]+', '', text)\n",
    "    text = re.sub(r'https?:\\/\\/\\S+', '', text)\n",
    "    \n",
    "    return text "
   ]
  },
  {
   "cell_type": "code",
   "execution_count": 23,
   "id": "05ede2db",
   "metadata": {},
   "outputs": [],
   "source": [
    "data['pro']= data['pro'].apply(clean_text)"
   ]
  },
  {
   "cell_type": "code",
   "execution_count": 24,
   "id": "dd696fce",
   "metadata": {},
   "outputs": [],
   "source": [
    "#lemmatization\n",
    "\n",
    "#wn = nltk.WordNetLemmatizer()\n",
    "\n",
    "#def lemmatizer(text):\n",
    "#    text = [wn.lemmatize(word) for word in text]\n",
    "#    return text\n",
    "\n",
    "#data['pro'] = data['pro'].apply(lambda x: lemmatizer(x))"
   ]
  },
  {
   "cell_type": "code",
   "execution_count": 25,
   "id": "a1262837",
   "metadata": {},
   "outputs": [
    {
     "data": {
      "text/html": [
       "<div>\n",
       "<style scoped>\n",
       "    .dataframe tbody tr th:only-of-type {\n",
       "        vertical-align: middle;\n",
       "    }\n",
       "\n",
       "    .dataframe tbody tr th {\n",
       "        vertical-align: top;\n",
       "    }\n",
       "\n",
       "    .dataframe thead th {\n",
       "        text-align: right;\n",
       "    }\n",
       "</style>\n",
       "<table border=\"1\" class=\"dataframe\">\n",
       "  <thead>\n",
       "    <tr style=\"text-align: right;\">\n",
       "      <th></th>\n",
       "      <th>text</th>\n",
       "      <th>sentiment</th>\n",
       "      <th>pro</th>\n",
       "    </tr>\n",
       "  </thead>\n",
       "  <tbody>\n",
       "    <tr>\n",
       "      <th>0</th>\n",
       "      <td>Kickers on my watchlist XIDE TIT SOQ PNK CPW B...</td>\n",
       "      <td>1</td>\n",
       "      <td>Kickers watchlist XIDE TIT SOQ PNK CPW BPZ AJ ...</td>\n",
       "    </tr>\n",
       "    <tr>\n",
       "      <th>1</th>\n",
       "      <td>user: AAP MOVIE. 55% return for the FEA/GEED i...</td>\n",
       "      <td>1</td>\n",
       "      <td>user: AAP MOVIE. 55% return FEA/GEED indicator...</td>\n",
       "    </tr>\n",
       "    <tr>\n",
       "      <th>2</th>\n",
       "      <td>user I'd be afraid to short AMZN - they are lo...</td>\n",
       "      <td>1</td>\n",
       "      <td>user I'd afraid short AMZN - looking like near...</td>\n",
       "    </tr>\n",
       "    <tr>\n",
       "      <th>3</th>\n",
       "      <td>MNTA Over 12.00</td>\n",
       "      <td>1</td>\n",
       "      <td>MNTA Over 12.00</td>\n",
       "    </tr>\n",
       "    <tr>\n",
       "      <th>4</th>\n",
       "      <td>OI  Over 21.37</td>\n",
       "      <td>1</td>\n",
       "      <td>OI Over 21.37</td>\n",
       "    </tr>\n",
       "  </tbody>\n",
       "</table>\n",
       "</div>"
      ],
      "text/plain": [
       "                                                text  sentiment  \\\n",
       "0  Kickers on my watchlist XIDE TIT SOQ PNK CPW B...          1   \n",
       "1  user: AAP MOVIE. 55% return for the FEA/GEED i...          1   \n",
       "2  user I'd be afraid to short AMZN - they are lo...          1   \n",
       "3                                  MNTA Over 12.00            1   \n",
       "4                                   OI  Over 21.37            1   \n",
       "\n",
       "                                                 pro  \n",
       "0  Kickers watchlist XIDE TIT SOQ PNK CPW BPZ AJ ...  \n",
       "1  user: AAP MOVIE. 55% return FEA/GEED indicator...  \n",
       "2  user I'd afraid short AMZN - looking like near...  \n",
       "3                                    MNTA Over 12.00  \n",
       "4                                      OI Over 21.37  "
      ]
     },
     "execution_count": 25,
     "metadata": {},
     "output_type": "execute_result"
    }
   ],
   "source": [
    "data.head()"
   ]
  },
  {
   "cell_type": "code",
   "execution_count": 26,
   "id": "924a3057",
   "metadata": {},
   "outputs": [],
   "source": [
    "# Redo Word Frequency "
   ]
  },
  {
   "cell_type": "code",
   "execution_count": 27,
   "id": "3f727877",
   "metadata": {},
   "outputs": [],
   "source": [
    "import nltk\n",
    "from nltk import tokenize\n",
    "\n",
    "tokenSpace = tokenize.WhitespaceTokenizer()\n",
    "def counter(text, columnText, quantity):\n",
    "    allWords = ' '.join([text for text in text[columnText].astype('str')])\n",
    "    tokenPhrase = tokenSpace.tokenize(allWords)\n",
    "    frequency = nltk.FreqDist(tokenPhrase) \n",
    "    dfFrequency = pd.DataFrame({\"Word\": list(frequency.keys()), \"Frequency\": list(frequency.values())}) \n",
    "    \n",
    "    dfFrequency = dfFrequency.nlargest(columns = \"Frequency\", n = quantity)\n",
    "    plt.figure(figsize=(40,30))\n",
    "    ax = sns.barplot(data = dfFrequency, x = \"Word\", y = \"Frequency\", palette=\"deep\")\n",
    "    ax.set(ylabel = \"Count\")\n",
    "    plt.xticks(rotation='horizontal')\n",
    "    plt.show()"
   ]
  },
  {
   "cell_type": "code",
   "execution_count": 28,
   "id": "3ce5c970",
   "metadata": {},
   "outputs": [
    {
     "data": {
      "image/png": "[encoded data removed]",
      "text/plain": [
       "<Figure size 2880x2160 with 1 Axes>"
      ]
     },
     "metadata": {
      "needs_background": "light"
     },
     "output_type": "display_data"
    }
   ],
   "source": [
    "counter(data, 'pro', 25)"
   ]
  },
  {
   "cell_type": "code",
   "execution_count": 29,
   "id": "4a4edc5a",
   "metadata": {},
   "outputs": [],
   "source": [
    "#Keeping punctuation as used for emojis which VADER uses \n",
    "\n",
    "#Twitter -> Inc., &amp, Group, Inc, INC, BONUS, Binance, Register, has -> Anything which doesnt help sentiment\n",
    "#News -> Jim, Cramer, says, The, \n",
    "#Reddit -> •, CLICK, FOR, HERE\n",
    "\n",
    "#Additional, "
   ]
  },
  {
   "cell_type": "code",
   "execution_count": 30,
   "id": "318581b3",
   "metadata": {},
   "outputs": [],
   "source": [
    "#import nltk\n",
    "#from nltk import tokenize\n",
    "\n",
    "#tokenSpace = tokenize.WhitespaceTokenizer()\n",
    "#def counter(text, columnText, quantity):\n",
    "#    allWords = ' '.join([text for text in text[columnText].astype('str')])\n",
    "#    tokenPhrase = tokenSpace.tokenize(allWords)\n",
    "#    frequency = nltk.FreqDist(tokenPhrase) \n",
    "#    dfFrequency = pd.DataFrame({\"Word\": list(frequency.keys()), \"Frequency\": list(frequency.values())}) \n",
    "    \n",
    "#    dfFrequency = dfFrequency.nlargest(columns = \"Frequency\", n = quantity)\n",
    "#    plt.figure(figsize=(30,20))\n",
    "#    ax = sns.barplot(data = dfFrequency, x = \"Word\", y = \"Frequency\", palette=\"deep\")\n",
    "#    ax.set(ylabel = \"Count\")\n",
    "#    plt.xticks(rotation='horizontal')\n",
    "#    plt.show()"
   ]
  },
  {
   "cell_type": "code",
   "execution_count": 31,
   "id": "fe7af9be",
   "metadata": {},
   "outputs": [],
   "source": [
    "#counter(data[data['sentiment'] == '1'], 'pro', 25)\n",
    "#counter(data, 'text', 25)"
   ]
  },
  {
   "cell_type": "code",
   "execution_count": 32,
   "id": "68485e82",
   "metadata": {},
   "outputs": [],
   "source": [
    "# VADER -> BASIC- Only pos and neg, no added words/lexicons "
   ]
  },
  {
   "cell_type": "code",
   "execution_count": 33,
   "id": "ae25775a",
   "metadata": {},
   "outputs": [],
   "source": [
    "#Initiate the VADER Sentiment Analyzer\n",
    "\n",
    "analyzer = SentimentIntensityAnalyzer()"
   ]
  },
  {
   "cell_type": "code",
   "execution_count": 34,
   "id": "95d329ff",
   "metadata": {},
   "outputs": [],
   "source": [
    "# Get Compound Score of Each text in the DataFrame using VADER\n",
    "data['compound'] = [analyzer.polarity_scores(x)['compound'] for x in data['pro']]"
   ]
  },
  {
   "cell_type": "code",
   "execution_count": 35,
   "id": "06d2ef00",
   "metadata": {},
   "outputs": [],
   "source": [
    "#del data['Unnamed: 3']\n",
    "#del data['Unnamed: 4']\n",
    "#del data['Unnamed: 5']\n",
    "#del data['Unnamed: 6']\n",
    "#del data['Unnamed: 7']\n",
    "#del data['Unnamed: 8']\n",
    "#del data['Unnamed: 9']"
   ]
  },
  {
   "cell_type": "code",
   "execution_count": 36,
   "id": "eecd33e4",
   "metadata": {},
   "outputs": [],
   "source": [
    "#from textblob import TextBlob"
   ]
  },
  {
   "cell_type": "code",
   "execution_count": 37,
   "id": "1d1b0739",
   "metadata": {},
   "outputs": [],
   "source": [
    "# Function to calculate polarityy\n",
    "#def get_polarity(text):\n",
    "#    return TextBlob(text).sentiment.polarity\n",
    "\n",
    "# Caluculating Polarity of text\n",
    "#data[\"polarity\"] = data[\"pro\"].apply(get_polarity)"
   ]
  },
  {
   "cell_type": "code",
   "execution_count": 38,
   "id": "5149c169",
   "metadata": {},
   "outputs": [
    {
     "data": {
      "text/html": [
       "<div>\n",
       "<style scoped>\n",
       "    .dataframe tbody tr th:only-of-type {\n",
       "        vertical-align: middle;\n",
       "    }\n",
       "\n",
       "    .dataframe tbody tr th {\n",
       "        vertical-align: top;\n",
       "    }\n",
       "\n",
       "    .dataframe thead th {\n",
       "        text-align: right;\n",
       "    }\n",
       "</style>\n",
       "<table border=\"1\" class=\"dataframe\">\n",
       "  <thead>\n",
       "    <tr style=\"text-align: right;\">\n",
       "      <th></th>\n",
       "      <th>text</th>\n",
       "      <th>sentiment</th>\n",
       "      <th>pro</th>\n",
       "      <th>compound</th>\n",
       "    </tr>\n",
       "  </thead>\n",
       "  <tbody>\n",
       "    <tr>\n",
       "      <th>0</th>\n",
       "      <td>Kickers on my watchlist XIDE TIT SOQ PNK CPW B...</td>\n",
       "      <td>1</td>\n",
       "      <td>Kickers watchlist XIDE TIT SOQ PNK CPW BPZ AJ ...</td>\n",
       "      <td>0.0000</td>\n",
       "    </tr>\n",
       "    <tr>\n",
       "      <th>1</th>\n",
       "      <td>user: AAP MOVIE. 55% return for the FEA/GEED i...</td>\n",
       "      <td>1</td>\n",
       "      <td>user: AAP MOVIE. 55% return FEA/GEED indicator...</td>\n",
       "      <td>0.7034</td>\n",
       "    </tr>\n",
       "    <tr>\n",
       "      <th>2</th>\n",
       "      <td>user I'd be afraid to short AMZN - they are lo...</td>\n",
       "      <td>1</td>\n",
       "      <td>user I'd afraid short AMZN - looking like near...</td>\n",
       "      <td>0.3612</td>\n",
       "    </tr>\n",
       "    <tr>\n",
       "      <th>3</th>\n",
       "      <td>MNTA Over 12.00</td>\n",
       "      <td>1</td>\n",
       "      <td>MNTA Over 12.00</td>\n",
       "      <td>0.0000</td>\n",
       "    </tr>\n",
       "    <tr>\n",
       "      <th>4</th>\n",
       "      <td>OI  Over 21.37</td>\n",
       "      <td>1</td>\n",
       "      <td>OI Over 21.37</td>\n",
       "      <td>0.0000</td>\n",
       "    </tr>\n",
       "  </tbody>\n",
       "</table>\n",
       "</div>"
      ],
      "text/plain": [
       "                                                text  sentiment  \\\n",
       "0  Kickers on my watchlist XIDE TIT SOQ PNK CPW B...          1   \n",
       "1  user: AAP MOVIE. 55% return for the FEA/GEED i...          1   \n",
       "2  user I'd be afraid to short AMZN - they are lo...          1   \n",
       "3                                  MNTA Over 12.00            1   \n",
       "4                                   OI  Over 21.37            1   \n",
       "\n",
       "                                                 pro  compound  \n",
       "0  Kickers watchlist XIDE TIT SOQ PNK CPW BPZ AJ ...    0.0000  \n",
       "1  user: AAP MOVIE. 55% return FEA/GEED indicator...    0.7034  \n",
       "2  user I'd afraid short AMZN - looking like near...    0.3612  \n",
       "3                                    MNTA Over 12.00    0.0000  \n",
       "4                                      OI Over 21.37    0.0000  "
      ]
     },
     "execution_count": 38,
     "metadata": {},
     "output_type": "execute_result"
    }
   ],
   "source": [
    "data.head()"
   ]
  },
  {
   "cell_type": "code",
   "execution_count": 39,
   "id": "43a9d92e",
   "metadata": {},
   "outputs": [],
   "source": [
    "#Set VADER Sentiment Class to Positive if compound > 0 and to Negative if compound < 0 \n",
    "data['prediction_vader'] = data['compound'].apply(lambda x: 1 if x > 0 else -1)"
   ]
  },
  {
   "cell_type": "code",
   "execution_count": 40,
   "id": "6e674331",
   "metadata": {},
   "outputs": [
    {
     "name": "stdout",
     "output_type": "stream",
     "text": [
      "Vader Accuracy: 0.5349680538767052\n"
     ]
    }
   ],
   "source": [
    "print(\"Vader Accuracy: \" + str(accuracy_score(data['sentiment'], data['prediction_vader'])))"
   ]
  },
  {
   "cell_type": "code",
   "execution_count": 41,
   "id": "1b8ef1c8",
   "metadata": {},
   "outputs": [
    {
     "name": "stdout",
     "output_type": "stream",
     "text": [
      "Confusion Matrix\n",
      "[[1492  614]\n",
      " [2079 1606]]\n",
      "\n",
      "Classification Report\n",
      "              precision    recall  f1-score   support\n",
      "\n",
      "    Positive       0.42      0.71      0.53      2106\n",
      "    Negative       0.72      0.44      0.54      3685\n",
      "\n",
      "    accuracy                           0.53      5791\n",
      "   macro avg       0.57      0.57      0.53      5791\n",
      "weighted avg       0.61      0.53      0.54      5791\n",
      "\n"
     ]
    }
   ],
   "source": [
    "print('Confusion Matrix')\n",
    "print(confusion_matrix(data['sentiment'], data['prediction_vader']))\n",
    "print('\\nClassification Report')\n",
    "#target_names = ['Positive', 'Negative', 'Neutral']\n",
    "target_names = ['Positive', 'Negative']\n",
    "print(classification_report(data['sentiment'], data['prediction_vader'], target_names=target_names))"
   ]
  },
  {
   "cell_type": "code",
   "execution_count": 1,
   "id": "9798b349",
   "metadata": {},
   "outputs": [],
   "source": [
    "#New sentiment dataset \n",
    "\n",
    "#Blob Accuracy: 0.5258159212571232\n",
    "#Vader Accuracy: 0.5349680538767052"
   ]
  },
  {
   "cell_type": "code",
   "execution_count": null,
   "id": "6c98773b",
   "metadata": {},
   "outputs": [],
   "source": [
    "# Stopwords = VADER Accuracy: 0.5527285513361463 \n",
    "# Stopwords + Additional words = VADER Accuracy: 0.5631153305203938"
   ]
  }
 ],
 "metadata": {
  "kernelspec": {
   "display_name": "Python 3",
   "language": "python",
   "name": "python3"
  },
  "language_info": {
   "codemirror_mode": {
    "name": "ipython",
    "version": 3
   },
   "file_extension": ".py",
   "mimetype": "text/x-python",
   "name": "python",
   "nbconvert_exporter": "python",
   "pygments_lexer": "ipython3",
   "version": "3.8.3"
  }
 },
 "nbformat": 4,
 "nbformat_minor": 5
}
